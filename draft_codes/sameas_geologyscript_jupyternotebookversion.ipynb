{
 "cells": [
  {
   "cell_type": "code",
   "execution_count": 1,
   "id": "29284674",
   "metadata": {},
   "outputs": [
    {
     "name": "stderr",
     "output_type": "stream",
     "text": [
      "/tmp/ipykernel_448828/4015039897.py:9: UserWarning: pygeos support was removed in 1.0. geopandas.use_pygeos is a no-op and will be removed in geopandas 1.1.\n",
      "  gpd.options.use_pygeos = True\n"
     ]
    }
   ],
   "source": [
    "import pandas as pd\n",
    "import numpy as np\n",
    "import geopandas as gpd\n",
    "from shapely.geometry import box\n",
    "from pathlib import Path\n",
    "from tqdm import tqdm\n",
    "import polars as pl\n",
    "from datetime import datetime\n",
    "gpd.options.use_pygeos = True"
   ]
  },
  {
   "cell_type": "code",
   "execution_count": 2,
   "id": "0e75c1b8",
   "metadata": {},
   "outputs": [
    {
     "name": "stdout",
     "output_type": "stream",
     "text": [
      "hello\n"
     ]
    }
   ],
   "source": [
    "print(\"hello\")"
   ]
  },
  {
   "cell_type": "code",
   "execution_count": 3,
   "id": "34483b34",
   "metadata": {},
   "outputs": [],
   "source": [
    "# Helper function for timestamped print statements\n",
    "def log(message):\n",
    "    print(f\"[{datetime.now().strftime('%Y-%m-%d %H:%M:%S')}] {message}\", flush=True)"
   ]
  },
  {
   "cell_type": "code",
   "execution_count": 4,
   "id": "f57175c9",
   "metadata": {},
   "outputs": [
    {
     "name": "stdout",
     "output_type": "stream",
     "text": [
      "[2025-10-14 13:06:27] Starting to read slope file...\n",
      "[2025-10-14 13:06:27] Slope file read successfully.\n"
     ]
    }
   ],
   "source": [
    "# # This code generates duplicate rows for the grids that intersect with different geology polygons\n",
    "i = 24\n",
    "slope_crs = \"EPSG:4326\"  # Assuming slope data in WGS 84 CRS\n",
    "\n",
    "slope_data_rect = f\"/mnt/c/Users/melis/Desktop/add_slope_parquet/10_07_25_gdf_parquet_version_repaired_serial/grid_numbers_added/grid_numbers_fixed/gdf_rect{i}_slope_inside.parquet\"\n",
    "log(\"Starting to read slope file...\")\n",
    "\n",
    "#slope_data_rect1 = pl.read_parquet(slope_data_rect1, columns=[\"X_max\", \"X_min\", \"Y_max\", \"Y_min\"])\n",
    "slope_data_rect = pl.read_parquet(slope_data_rect, columns=[\"X_max\", \"X_min\", \"Y_max\", \"Y_min\", \"Slope Value\"])\n",
    "log(\"Slope file read successfully.\")"
   ]
  },
  {
   "cell_type": "code",
   "execution_count": 5,
   "id": "eaa10ac2",
   "metadata": {},
   "outputs": [
    {
     "name": "stdout",
     "output_type": "stream",
     "text": [
      "[2025-10-14 13:06:27] Converting slope data from Polars to Pandas...\n",
      "[2025-10-14 13:06:27] Conversion from Polars to Pandas completed.\n"
     ]
    }
   ],
   "source": [
    "log(\"Converting slope data from Polars to Pandas...\")\n",
    "slope_data_rect = slope_data_rect.to_pandas()\n",
    "log(\"Conversion from Polars to Pandas completed.\")"
   ]
  },
  {
   "cell_type": "code",
   "execution_count": 6,
   "id": "66444bb1",
   "metadata": {},
   "outputs": [
    {
     "data": {
      "text/html": [
       "<div>\n",
       "<style scoped>\n",
       "    .dataframe tbody tr th:only-of-type {\n",
       "        vertical-align: middle;\n",
       "    }\n",
       "\n",
       "    .dataframe tbody tr th {\n",
       "        vertical-align: top;\n",
       "    }\n",
       "\n",
       "    .dataframe thead th {\n",
       "        text-align: right;\n",
       "    }\n",
       "</style>\n",
       "<table border=\"1\" class=\"dataframe\">\n",
       "  <thead>\n",
       "    <tr style=\"text-align: right;\">\n",
       "      <th></th>\n",
       "      <th>X_max</th>\n",
       "      <th>X_min</th>\n",
       "      <th>Y_max</th>\n",
       "      <th>Y_min</th>\n",
       "      <th>Slope Value</th>\n",
       "    </tr>\n",
       "  </thead>\n",
       "  <tbody>\n",
       "    <tr>\n",
       "      <th>0</th>\n",
       "      <td>-115.855741</td>\n",
       "      <td>-115.855833</td>\n",
       "      <td>35.970370</td>\n",
       "      <td>35.970278</td>\n",
       "      <td>0.586749</td>\n",
       "    </tr>\n",
       "    <tr>\n",
       "      <th>1</th>\n",
       "      <td>-115.855926</td>\n",
       "      <td>-115.856018</td>\n",
       "      <td>35.970278</td>\n",
       "      <td>35.970185</td>\n",
       "      <td>0.596100</td>\n",
       "    </tr>\n",
       "    <tr>\n",
       "      <th>2</th>\n",
       "      <td>-115.854907</td>\n",
       "      <td>-115.855000</td>\n",
       "      <td>35.970278</td>\n",
       "      <td>35.970185</td>\n",
       "      <td>0.481124</td>\n",
       "    </tr>\n",
       "    <tr>\n",
       "      <th>3</th>\n",
       "      <td>-115.855741</td>\n",
       "      <td>-115.855833</td>\n",
       "      <td>35.970556</td>\n",
       "      <td>35.970463</td>\n",
       "      <td>0.611770</td>\n",
       "    </tr>\n",
       "    <tr>\n",
       "      <th>4</th>\n",
       "      <td>-115.855926</td>\n",
       "      <td>-115.856018</td>\n",
       "      <td>35.970370</td>\n",
       "      <td>35.970278</td>\n",
       "      <td>0.593905</td>\n",
       "    </tr>\n",
       "  </tbody>\n",
       "</table>\n",
       "</div>"
      ],
      "text/plain": [
       "        X_max       X_min      Y_max      Y_min  Slope Value\n",
       "0 -115.855741 -115.855833  35.970370  35.970278     0.586749\n",
       "1 -115.855926 -115.856018  35.970278  35.970185     0.596100\n",
       "2 -115.854907 -115.855000  35.970278  35.970185     0.481124\n",
       "3 -115.855741 -115.855833  35.970556  35.970463     0.611770\n",
       "4 -115.855926 -115.856018  35.970370  35.970278     0.593905"
      ]
     },
     "execution_count": 6,
     "metadata": {},
     "output_type": "execute_result"
    }
   ],
   "source": [
    "slope_data_rect.head()"
   ]
  },
  {
   "cell_type": "code",
   "execution_count": 7,
   "id": "210433f3",
   "metadata": {},
   "outputs": [
    {
     "name": "stdout",
     "output_type": "stream",
     "text": [
      "[2025-10-14 13:06:27] Starting to read geology file...\n",
      "[2025-10-14 13:06:29] Reprojecting geology shapefile to match slope CRS...\n",
      "[2025-10-14 13:06:29] Geology file read and CRS verified.\n"
     ]
    }
   ],
   "source": [
    "# === Load geology polygons ===\n",
    "slope_crs = \"EPSG:4326\" \n",
    "log(\"Starting to read geology file...\")\n",
    "geology_gdf = gpd.read_file(r\"/mnt/c/Users/melis/Desktop/10_09_geologyand_landslide/10_09_25_geology/shapefiles_Geology/shapefiles_Geology/GMC_geo_poly.shp\")\n",
    "if geology_gdf.crs is None or geology_gdf.crs.to_string() != slope_crs:\n",
    "    log(\"Reprojecting geology shapefile to match slope CRS...\")\n",
    "    geology_gdf = geology_gdf.to_crs(slope_crs)\n",
    "log(\"Geology file read and CRS verified.\")"
   ]
  },
  {
   "cell_type": "code",
   "execution_count": 8,
   "id": "e85e2050",
   "metadata": {},
   "outputs": [],
   "source": [
    "# import multiprocessing as mp\n",
    "# from functools import partial\n",
    "# import gc\n",
    "# import pyarrow.parquet as pq\n",
    "\n",
    "# # Helper function to process a single chunk (must be defined at module level for multiprocessing)\n",
    "# def process_chunk(chunk, slope_crs):\n",
    "#     return gpd.GeoDataFrame(\n",
    "#         chunk,\n",
    "#         geometry=[\n",
    "#             box(xmin, ymin, xmax, ymax)\n",
    "#             for xmin, ymin, xmax, ymax in zip(\n",
    "#                 chunk[\"X_min\"], chunk[\"Y_min\"], chunk[\"X_max\"], chunk[\"Y_max\"]\n",
    "#             )\n",
    "#         ],\n",
    "#         crs=slope_crs\n",
    "#     )\n",
    "\n",
    "# # This code generates duplicate rows for the grids that intersect with different geology polygons\n",
    "# i = 3\n",
    "# slope_crs = \"EPSG:4326\"  # Assuming slope data in WGS 84 CRS\n",
    "\n",
    "# slope_data_path = f\"/mnt/c/Users/melis/Desktop/add_slope_parquet/10_07_25_gdf_parquet_version_repaired_serial/grid_numbers_added/grid_numbers_fixed/gdf_rect{i}_slope_inside.parquet\"\n",
    "# log(\"Starting to read slope file in chunks...\")\n",
    "\n",
    "# # Read parquet metadata to get total rows\n",
    "# parquet_file = pq.ParquetFile(slope_data_path)\n",
    "# total_rows = parquet_file.metadata.num_rows\n",
    "# log(f\"Total rows in parquet file: {total_rows}\")\n",
    "\n",
    "# chunk_size = 200000  # Adjust based on available memory\n",
    "# num_processes = mp.cpu_count() // 7  # Use half your CPU cores (e.g., 4-8); adjust as needed\n",
    "# slope_gdfs = []\n",
    "\n",
    "# # Calculate total number of chunks for tqdm\n",
    "# total_chunks = (total_rows + chunk_size - 1) // chunk_size\n",
    "\n",
    "# log(\"Processing slope data in parallel chunks...\")\n",
    "\n",
    "# # Generator to read parquet file in chunks\n",
    "# def chunk_generator(parquet_path, chunk_size, columns):\n",
    "#     parquet_file = pq.ParquetFile(parquet_path)\n",
    "#     for batch in parquet_file.iter_batches(batch_size=chunk_size, columns=columns):\n",
    "#         df_chunk = batch.to_pandas()\n",
    "#         # Downcast numeric columns\n",
    "#         df_chunk[\"X_min\"] = pd.to_numeric(df_chunk[\"X_min\"], downcast=\"float\")\n",
    "#         df_chunk[\"Y_min\"] = pd.to_numeric(df_chunk[\"Y_min\"], downcast=\"float\")\n",
    "#         df_chunk[\"X_max\"] = pd.to_numeric(df_chunk[\"X_max\"], downcast=\"float\")\n",
    "#         df_chunk[\"Y_max\"] = pd.to_numeric(df_chunk[\"Y_max\"], downcast=\"float\")\n",
    "#         yield df_chunk\n",
    "\n",
    "# # Process chunks in parallel with progress tracking\n",
    "# with mp.Pool(processes=num_processes) as pool:\n",
    "#     slope_gdfs = list(tqdm(\n",
    "#         pool.imap(\n",
    "#             partial(process_chunk, slope_crs=slope_crs),\n",
    "#             chunk_generator(slope_data_path, chunk_size, [\"X_max\", \"X_min\", \"Y_max\", \"Y_min\", \"Slope Value\"])\n",
    "#         ),\n",
    "#         total=total_chunks,\n",
    "#         desc=\"Processing chunks\"\n",
    "#     ))\n",
    "\n",
    "# slope_gdf = pd.concat(slope_gdfs, ignore_index=True)\n",
    "# log(\"Slope grids processed in parallel chunks and combined.\")\n",
    "\n",
    "# # Free memory after concatenation\n",
    "# del slope_gdfs\n",
    "# gc.collect()"
   ]
  },
  {
   "cell_type": "code",
   "execution_count": 9,
   "id": "d76a900e",
   "metadata": {},
   "outputs": [],
   "source": [
    "slope_data_rect[\"X_min\"] = pd.to_numeric(slope_data_rect[\"X_min\"], downcast=\"float\")\n",
    "slope_data_rect[\"Y_min\"] = pd.to_numeric(slope_data_rect[\"Y_min\"], downcast=\"float\")\n",
    "slope_data_rect[\"X_max\"] = pd.to_numeric(slope_data_rect[\"X_max\"], downcast=\"float\")\n",
    "slope_data_rect[\"Y_max\"] = pd.to_numeric(slope_data_rect[\"Y_max\"], downcast=\"float\")"
   ]
  },
  {
   "cell_type": "code",
   "execution_count": 10,
   "id": "6a7f4127",
   "metadata": {},
   "outputs": [],
   "source": [
    "# del slope_gdfs\n",
    "# import gc\n",
    "\n",
    "# gc.collect()"
   ]
  },
  {
   "cell_type": "code",
   "execution_count": 11,
   "id": "312c97ae",
   "metadata": {},
   "outputs": [
    {
     "name": "stdout",
     "output_type": "stream",
     "text": [
      "[2025-10-14 13:06:30] Converting slope grids into polygons...\n",
      "[2025-10-14 13:07:16] Slope grids converted into polygons.\n"
     ]
    }
   ],
   "source": [
    "log(\"Converting slope grids into polygons...\")\n",
    "slope_gdf = gpd.GeoDataFrame(\n",
    "    slope_data_rect,\n",
    "    geometry=[\n",
    "        box(xmin, ymin, xmax, ymax)\n",
    "        for xmin, ymin, xmax, ymax in zip(\n",
    "            slope_data_rect[\"X_min\"],\n",
    "            slope_data_rect[\"Y_min\"],\n",
    "            slope_data_rect[\"X_max\"],\n",
    "            slope_data_rect[\"Y_max\"],\n",
    "        )\n",
    "    ],\n",
    "    crs=slope_crs\n",
    ")\n",
    "log(\"Slope grids converted into polygons.\")\n",
    "\n",
    "# import multiprocessing as mp\n",
    "# from functools import partial\n",
    "# import gc  # Add this if not already present\n",
    "\n",
    "# # Helper function to process a single chunk (must be defined at module level for multiprocessing)\n",
    "# def process_chunk(chunk, slope_crs):\n",
    "#     return gpd.GeoDataFrame(\n",
    "#         chunk,\n",
    "#         geometry=[\n",
    "#             box(xmin, ymin, xmax, ymax)\n",
    "#             for xmin, ymin, xmax, ymax in zip(\n",
    "#                 chunk[\"X_min\"], chunk[\"Y_min\"], chunk[\"X_max\"], chunk[\"Y_max\"]\n",
    "#             )\n",
    "#         ],\n",
    "#         crs=slope_crs\n",
    "#     )\n",
    "\n",
    "# log(\"Processing slope_data_rect in parallel chunks...\")\n",
    "# chunk_size = 200000  # Adjust based on available memory\n",
    "# num_processes = mp.cpu_count() // 6  # Use half your CPU cores (e.g., 4-8); adjust as needed\n",
    "\n",
    "# # Split data into chunks\n",
    "# chunks = [slope_data_rect.iloc[start:start + chunk_size] for start in range(0, len(slope_data_rect), chunk_size)]\n",
    "\n",
    "# # Process chunks in parallel with progress tracking\n",
    "# with mp.Pool(processes=num_processes) as pool:\n",
    "#     slope_gdfs = list(tqdm(\n",
    "#         pool.imap(partial(process_chunk, slope_crs=slope_crs), chunks),\n",
    "#         total=len(chunks),\n",
    "#         desc=\"Processing chunks\"\n",
    "#     ))\n",
    "\n",
    "# slope_gdf = pd.concat(slope_gdfs, ignore_index=True)\n",
    "# log(\"Slope grids processed in parallel chunks and combined.\")\n",
    "\n",
    "# # Free memory after concatenation\n",
    "# del slope_gdfs\n",
    "# gc.collect()"
   ]
  },
  {
   "cell_type": "code",
   "execution_count": 12,
   "id": "43570617",
   "metadata": {},
   "outputs": [
    {
     "name": "stdout",
     "output_type": "stream",
     "text": [
      "[2025-10-14 13:07:16] Performing spatial join between slope grids and geology polygons...\n"
     ]
    },
    {
     "name": "stderr",
     "output_type": "stream",
     "text": [
      "100%|██████████| 6/6 [00:00<00:00, 30.63it/s]\n"
     ]
    },
    {
     "name": "stdout",
     "output_type": "stream",
     "text": [
      "[2025-10-14 13:24:40] Spatial join completed.\n"
     ]
    }
   ],
   "source": [
    "# === Step 1: Candidate matches ===\n",
    "log(\"Performing spatial join between slope grids and geology polygons...\")\n",
    "tqdm.pandas()  # Enable tqdm for pandas operations\n",
    "\n",
    "candidates = gpd.sjoin(\n",
    "    slope_gdf.progress_apply(lambda x: x),  # Wrap slope_gdf with tqdm for progress tracking\n",
    "    geology_gdf[[\"geometry\", \"PTYPE\"]],\n",
    "    how=\"left\",\n",
    "    predicate=\"intersects\"\n",
    ")\n",
    "log(\"Spatial join completed.\")"
   ]
  },
  {
   "cell_type": "code",
   "execution_count": 13,
   "id": "14de8c2e",
   "metadata": {},
   "outputs": [
    {
     "data": {
      "text/html": [
       "<div>\n",
       "<style scoped>\n",
       "    .dataframe tbody tr th:only-of-type {\n",
       "        vertical-align: middle;\n",
       "    }\n",
       "\n",
       "    .dataframe tbody tr th {\n",
       "        vertical-align: top;\n",
       "    }\n",
       "\n",
       "    .dataframe thead th {\n",
       "        text-align: right;\n",
       "    }\n",
       "</style>\n",
       "<table border=\"1\" class=\"dataframe\">\n",
       "  <thead>\n",
       "    <tr style=\"text-align: right;\">\n",
       "      <th></th>\n",
       "      <th>X_max</th>\n",
       "      <th>X_min</th>\n",
       "      <th>Y_max</th>\n",
       "      <th>Y_min</th>\n",
       "      <th>Slope Value</th>\n",
       "      <th>geometry</th>\n",
       "      <th>index_right</th>\n",
       "      <th>PTYPE</th>\n",
       "    </tr>\n",
       "  </thead>\n",
       "  <tbody>\n",
       "    <tr>\n",
       "      <th>0</th>\n",
       "      <td>-115.855743</td>\n",
       "      <td>-115.855835</td>\n",
       "      <td>35.970371</td>\n",
       "      <td>35.970276</td>\n",
       "      <td>0.586749</td>\n",
       "      <td>POLYGON ((-115.85574 35.97028, -115.85574 35.9...</td>\n",
       "      <td>13906.0</td>\n",
       "      <td>Q</td>\n",
       "    </tr>\n",
       "    <tr>\n",
       "      <th>1</th>\n",
       "      <td>-115.855927</td>\n",
       "      <td>-115.856018</td>\n",
       "      <td>35.970276</td>\n",
       "      <td>35.970184</td>\n",
       "      <td>0.596100</td>\n",
       "      <td>POLYGON ((-115.85593 35.97018, -115.85593 35.9...</td>\n",
       "      <td>13906.0</td>\n",
       "      <td>Q</td>\n",
       "    </tr>\n",
       "    <tr>\n",
       "      <th>2</th>\n",
       "      <td>-115.854904</td>\n",
       "      <td>-115.855003</td>\n",
       "      <td>35.970276</td>\n",
       "      <td>35.970184</td>\n",
       "      <td>0.481124</td>\n",
       "      <td>POLYGON ((-115.8549 35.97018, -115.8549 35.970...</td>\n",
       "      <td>13906.0</td>\n",
       "      <td>Q</td>\n",
       "    </tr>\n",
       "    <tr>\n",
       "      <th>3</th>\n",
       "      <td>-115.855743</td>\n",
       "      <td>-115.855835</td>\n",
       "      <td>35.970554</td>\n",
       "      <td>35.970463</td>\n",
       "      <td>0.611770</td>\n",
       "      <td>POLYGON ((-115.85574 35.97046, -115.85574 35.9...</td>\n",
       "      <td>13906.0</td>\n",
       "      <td>Q</td>\n",
       "    </tr>\n",
       "    <tr>\n",
       "      <th>4</th>\n",
       "      <td>-115.855927</td>\n",
       "      <td>-115.856018</td>\n",
       "      <td>35.970371</td>\n",
       "      <td>35.970276</td>\n",
       "      <td>0.593905</td>\n",
       "      <td>POLYGON ((-115.85593 35.97028, -115.85593 35.9...</td>\n",
       "      <td>13906.0</td>\n",
       "      <td>Q</td>\n",
       "    </tr>\n",
       "  </tbody>\n",
       "</table>\n",
       "</div>"
      ],
      "text/plain": [
       "        X_max       X_min      Y_max      Y_min  Slope Value  \\\n",
       "0 -115.855743 -115.855835  35.970371  35.970276     0.586749   \n",
       "1 -115.855927 -115.856018  35.970276  35.970184     0.596100   \n",
       "2 -115.854904 -115.855003  35.970276  35.970184     0.481124   \n",
       "3 -115.855743 -115.855835  35.970554  35.970463     0.611770   \n",
       "4 -115.855927 -115.856018  35.970371  35.970276     0.593905   \n",
       "\n",
       "                                            geometry  index_right PTYPE  \n",
       "0  POLYGON ((-115.85574 35.97028, -115.85574 35.9...      13906.0     Q  \n",
       "1  POLYGON ((-115.85593 35.97018, -115.85593 35.9...      13906.0     Q  \n",
       "2  POLYGON ((-115.8549 35.97018, -115.8549 35.970...      13906.0     Q  \n",
       "3  POLYGON ((-115.85574 35.97046, -115.85574 35.9...      13906.0     Q  \n",
       "4  POLYGON ((-115.85593 35.97028, -115.85593 35.9...      13906.0     Q  "
      ]
     },
     "execution_count": 13,
     "metadata": {},
     "output_type": "execute_result"
    }
   ],
   "source": [
    "candidates.head()"
   ]
  },
  {
   "cell_type": "code",
   "execution_count": 14,
   "id": "b4fc1910",
   "metadata": {},
   "outputs": [
    {
     "name": "stdout",
     "output_type": "stream",
     "text": [
      "[2025-10-14 13:24:40] Number of missing values in PTYPE column: 234\n",
      "[2025-10-14 13:24:40] Total number of rows in candidates DataFrame: 5992227\n",
      "[2025-10-14 13:24:40] Total number of rows in initial DataFrame: 5964689\n"
     ]
    }
   ],
   "source": [
    "# Check for missing values in the PTYPE column\n",
    "missing_ptype_count = candidates[\"PTYPE\"].isna().sum()\n",
    "log(f\"Number of missing values in PTYPE column: {missing_ptype_count}\")\n",
    "\n",
    "# Get the total length of the candidates DataFrame\n",
    "total_candidates_length = len(candidates)\n",
    "log(f\"Total number of rows in candidates DataFrame: {total_candidates_length}\")\n",
    "\n",
    "total_initial_length = len(slope_data_rect)\n",
    "log(f\"Total number of rows in initial DataFrame: {total_initial_length}\")\n"
   ]
  },
  {
   "cell_type": "code",
   "execution_count": 15,
   "id": "c6885a16",
   "metadata": {},
   "outputs": [
    {
     "name": "stdout",
     "output_type": "stream",
     "text": [
      "[2025-10-14 13:24:40] Identifying grids with duplicates...\n",
      "[2025-10-14 13:24:49] Total slope grids: 5964689\n",
      "[2025-10-14 13:24:49] Grids with multiple geology overlaps: 0\n"
     ]
    }
   ],
   "source": [
    "log(\"Identifying grids with duplicates...\")\n",
    "dupes = candidates[candidates.duplicated(keep=False)]  # Check for duplicates across all columns\n",
    "\n",
    "log(f\"Total slope grids: {len(slope_gdf)}\")\n",
    "log(f\"Grids with multiple geology overlaps: {dupes.index.nunique()}\")\n"
   ]
  },
  {
   "cell_type": "code",
   "execution_count": 16,
   "id": "76db261b",
   "metadata": {},
   "outputs": [
    {
     "name": "stdout",
     "output_type": "stream",
     "text": [
      "[2025-10-14 13:24:49] Number of slope grids with multiple geology overlaps: 27497\n",
      "[2025-10-14 13:24:49] Maximum number of matches for a single slope grid: 3\n"
     ]
    }
   ],
   "source": [
    "# Count occurrences of each slope grid in the spatial join\n",
    "duplicate_counts = candidates.index.value_counts()\n",
    "\n",
    "# Number of slope grids with multiple matches\n",
    "num_multiple_matches = (duplicate_counts > 1).sum()\n",
    "log(f\"Number of slope grids with multiple geology overlaps: {num_multiple_matches}\")\n",
    "\n",
    "# Maximum number of matches for a single slope grid\n",
    "max_matches = duplicate_counts.max()\n",
    "log(f\"Maximum number of matches for a single slope grid: {max_matches}\")"
   ]
  },
  {
   "cell_type": "code",
   "execution_count": 17,
   "id": "93750691",
   "metadata": {},
   "outputs": [
    {
     "name": "stdout",
     "output_type": "stream",
     "text": [
      "[2025-10-14 13:24:49] Checking for unmatched slope grids...\n",
      "[2025-10-14 13:24:49] Total slope grids: 5992227\n",
      "[2025-10-14 13:24:49] Matched with geology: 5991993\n",
      "[2025-10-14 13:24:49] Unmatched (no geology): 234\n",
      "[2025-10-14 13:24:49] Match rate: 100.00%\n",
      "[2025-10-14 13:24:49] Unmatched via PTYPE check: 234\n",
      "[2025-10-14 13:24:49] Sample of unmatched grids:\n",
      "           X_min      Y_min       X_max      Y_max  Slope Value PTYPE\n",
      "99   -115.853798  35.969353 -115.853706  35.969444     0.566359   NaN\n",
      "286  -115.853333  35.968983 -115.853241  35.969074     0.598253   NaN\n",
      "385  -115.852966  35.968704 -115.852867  35.968796     0.516573   NaN\n",
      "414  -115.856293  35.971294 -115.856201  35.971390     0.640616   NaN\n",
      "467  -115.854164  35.969631 -115.854073  35.969723     0.589915   NaN\n",
      "514  -115.854630  35.970001 -115.854538  35.970093     0.581559   NaN\n",
      "695  -115.850464  35.966759 -115.850372  35.966850     0.532298   NaN\n",
      "826  -115.850830  35.967037 -115.850739  35.967129     0.494258   NaN\n",
      "1108 -115.851295  35.967407 -115.851204  35.967499     0.457724   NaN\n",
      "1485 -115.846756  35.963890 -115.846664  35.963982     0.674563   NaN\n"
     ]
    }
   ],
   "source": [
    "# Check for unmatched slope grids (no geology intersection)\n",
    "log(\"Checking for unmatched slope grids...\")\n",
    "\n",
    "# Count rows where index_right is NaN (no geology match)\n",
    "unmatched_count = candidates[\"index_right\"].isna().sum()\n",
    "total_grids = len(candidates)\n",
    "matched_count = total_grids - unmatched_count\n",
    "\n",
    "log(f\"Total slope grids: {total_grids}\")\n",
    "log(f\"Matched with geology: {matched_count}\")\n",
    "log(f\"Unmatched (no geology): {unmatched_count}\")\n",
    "log(f\"Match rate: {(matched_count / total_grids) * 100:.2f}%\")\n",
    "\n",
    "# Alternative: Check using PTYPE column\n",
    "unmatched_ptype = candidates[\"PTYPE\"].isna().sum()\n",
    "log(f\"Unmatched via PTYPE check: {unmatched_ptype}\")\n",
    "\n",
    "# Show a few examples of unmatched grids\n",
    "if unmatched_count > 0:\n",
    "    log(\"Sample of unmatched grids:\")\n",
    "    unmatched_grids = candidates[candidates[\"index_right\"].isna()][[\"X_min\", \"Y_min\", \"X_max\", \"Y_max\", \"Slope Value\", \"PTYPE\"]].head(10)\n",
    "    print(unmatched_grids)\n",
    "else:\n",
    "    log(\"All slope grids have geology matches!\")"
   ]
  },
  {
   "cell_type": "code",
   "execution_count": null,
   "id": "248de59b",
   "metadata": {},
   "outputs": [
    {
     "name": "stdout",
     "output_type": "stream",
     "text": [
      "[2025-10-14 13:34:22] Calculating intersection areas for each row in candidates...\n",
      "There are unmatched geology\n"
     ]
    }
   ],
   "source": [
    "log(\"Calculating intersection areas for each row in candidates...\")\n",
    "\n",
    "if unmatched_count==0:\n",
    "    # Add a new column for intersection area\n",
    "    candidates[\"intersection_area\"] = candidates.apply(\n",
    "        lambda row: row.geometry.intersection(\n",
    "            geology_gdf.loc[row.index_right, \"geometry\"]\n",
    "        ).area if row.index_right is not None else 0,\n",
    "        axis=1\n",
    "    )\n",
    "\n",
    "    log(\"Intersection areas calculated successfully.\")\n",
    "\n",
    "    # Check the first few rows to verify\n",
    "    log(\"Preview of candidates with intersection areas:\")\n",
    "    print(candidates.head())\n",
    "\n",
    "else:\n",
    "    print(\"There are unmatched geology\")\n",
    "    # Add a new column for intersection area\n",
    "    candidates[\"intersection_area\"] = candidates.apply(\n",
    "    lambda row: row.geometry.intersection(\n",
    "        geology_gdf.loc[row.index_right, \"geometry\"]\n",
    "    ).area if pd.notna(row.index_right) else 0,  # ✅ Use pd.notna() instead\n",
    "    axis=1\n",
    ")\n",
    "\n",
    "    log(\"Intersection areas calculated successfully.\")\n",
    "\n",
    "    # Check the first few rows to verify\n",
    "    log(\"Preview of candidates with intersection areas:\")\n",
    "    print(candidates.head())\n"
   ]
  },
  {
   "cell_type": "code",
   "execution_count": null,
   "id": "0818d2e6",
   "metadata": {},
   "outputs": [],
   "source": []
  },
  {
   "cell_type": "code",
   "execution_count": null,
   "id": "6468b30f",
   "metadata": {},
   "outputs": [
    {
     "name": "stdout",
     "output_type": "stream",
     "text": [
      "[2025-10-13 19:24:30] Resolving duplicates by keeping the largest overlap...\n",
      "[2025-10-13 19:28:38] Number of rows after resolving duplicates: 56082601\n"
     ]
    }
   ],
   "source": [
    "log(\"Resolving duplicates by keeping the largest overlap...\")\n",
    "\n",
    "# Sort by overlap area in descending order and drop duplicates based on slope grid index\n",
    "candidates_resolved = candidates.sort_values(\"intersection_area\", ascending=False).drop_duplicates(subset=[\"geometry\"])\n",
    "\n",
    "log(f\"Number of rows after resolving duplicates: {len(candidates_resolved)}\")\n",
    "\n",
    "# Combine resolved duplicates with single-match grids\n",
    "# log(\"Combining resolved duplicates with single-match grids...\")\n",
    "# unique_matches = candidates[~candidates.index.duplicated(keep=False)]  # grids with exactly 1 geology\n",
    "# slope_with_geo = pd.concat([unique_matches, candidates_resolved], ignore_index=True)\n",
    "\n",
    "# log(f\"Total number of rows after combining: {len(slope_with_geo)}\")\n",
    "\n",
    "# # Clean the final GeoDataFrame\n",
    "# log(\"Cleaning final GeoDataFrame...\")\n",
    "# slope_with_geo = slope_with_geo.drop(columns=[\"index_right\", \"intersection_area\"], errors=\"ignore\")\n",
    "# log(\"Final GeoDataFrame prepared.\")\n",
    "\n",
    "# # Save the final GeoDataFrame to a Parquet file\n",
    "# log(\"Saving the final GeoDataFrame to a Parquet file...\")\n",
    "# output_path = Path(\"/mnt/c/Users/melis/Desktop/10_09_geologyand_landslide/10_09_25_geolog/slope_geology_grid_number_file/gdf_rect1_slope_geo_gridno.parquet\")\n",
    "# slope_with_geo.to_parquet(output_path, index=False)\n",
    "# log(f\"Final GeoDataFrame saved to {output_path}.\")"
   ]
  },
  {
   "cell_type": "code",
   "execution_count": null,
   "id": "a6001191",
   "metadata": {},
   "outputs": [
    {
     "name": "stdout",
     "output_type": "stream",
     "text": [
      "Duplicate slope grids after resolution: 0\n",
      "Grids with missing geology: 0\n",
      "Coverage ratio: 1.0\n"
     ]
    }
   ],
   "source": [
    "#Sanity checks\n",
    "\n",
    "assert len(candidates_resolved) == len(slope_gdf)\n",
    "\n",
    "#are there any duplicates?\n",
    "dupes = candidates_resolved.duplicated(subset=[\"X_min\",\"Y_min\",\"X_max\",\"Y_max\"]).sum()\n",
    "print(\"Duplicate slope grids after resolution:\", dupes)\n",
    "\n",
    "\n",
    "#how many missing geology/ptype I have\n",
    "missing = candidates_resolved[\"PTYPE\"].isna().sum()\n",
    "print(\"Grids with missing geology:\", missing)\n",
    "\n",
    "#coverage ratio\n",
    "\n",
    "coverage_ratio = 1 - (missing / len(candidates_resolved))\n",
    "print(\"Coverage ratio:\", coverage_ratio)\n",
    "\n",
    "\n",
    "\n",
    "\n"
   ]
  },
  {
   "cell_type": "code",
   "execution_count": null,
   "id": "fc1d2065",
   "metadata": {},
   "outputs": [],
   "source": [
    "#are the grid numbers still correct?\n",
    "\n"
   ]
  },
  {
   "cell_type": "code",
   "execution_count": null,
   "id": "fc5dcbb0",
   "metadata": {},
   "outputs": [
    {
     "data": {
      "text/html": [
       "<div>\n",
       "<style scoped>\n",
       "    .dataframe tbody tr th:only-of-type {\n",
       "        vertical-align: middle;\n",
       "    }\n",
       "\n",
       "    .dataframe tbody tr th {\n",
       "        vertical-align: top;\n",
       "    }\n",
       "\n",
       "    .dataframe thead th {\n",
       "        text-align: right;\n",
       "    }\n",
       "</style>\n",
       "<table border=\"1\" class=\"dataframe\">\n",
       "  <thead>\n",
       "    <tr style=\"text-align: right;\">\n",
       "      <th></th>\n",
       "      <th>X_max</th>\n",
       "      <th>X_min</th>\n",
       "      <th>Y_max</th>\n",
       "      <th>Y_min</th>\n",
       "      <th>Slope Value</th>\n",
       "      <th>geometry</th>\n",
       "      <th>index_right</th>\n",
       "      <th>PTYPE</th>\n",
       "      <th>intersection_area</th>\n",
       "    </tr>\n",
       "  </thead>\n",
       "  <tbody>\n",
       "    <tr>\n",
       "      <th>56082577</th>\n",
       "      <td>-118.427589</td>\n",
       "      <td>-118.428520</td>\n",
       "      <td>32.804352</td>\n",
       "      <td>32.803425</td>\n",
       "      <td>6.853119</td>\n",
       "      <td>POLYGON ((-118.42759 32.80342, -118.42759 32.8...</td>\n",
       "      <td>13898</td>\n",
       "      <td>water</td>\n",
       "      <td>8.628122e-07</td>\n",
       "    </tr>\n",
       "    <tr>\n",
       "      <th>56082571</th>\n",
       "      <td>-118.425369</td>\n",
       "      <td>-118.426300</td>\n",
       "      <td>32.804539</td>\n",
       "      <td>32.803612</td>\n",
       "      <td>2.799100</td>\n",
       "      <td>POLYGON ((-118.42537 32.80361, -118.42537 32.8...</td>\n",
       "      <td>10948</td>\n",
       "      <td>Tv</td>\n",
       "      <td>8.628122e-07</td>\n",
       "    </tr>\n",
       "    <tr>\n",
       "      <th>56082570</th>\n",
       "      <td>-118.425552</td>\n",
       "      <td>-118.426483</td>\n",
       "      <td>32.804722</td>\n",
       "      <td>32.803795</td>\n",
       "      <td>2.435479</td>\n",
       "      <td>POLYGON ((-118.42555 32.80379, -118.42555 32.8...</td>\n",
       "      <td>10948</td>\n",
       "      <td>Tv</td>\n",
       "      <td>8.628122e-07</td>\n",
       "    </tr>\n",
       "    <tr>\n",
       "      <th>56082567</th>\n",
       "      <td>-118.422867</td>\n",
       "      <td>-118.423798</td>\n",
       "      <td>32.805092</td>\n",
       "      <td>32.804165</td>\n",
       "      <td>3.283050</td>\n",
       "      <td>POLYGON ((-118.42287 32.80416, -118.42287 32.8...</td>\n",
       "      <td>13898</td>\n",
       "      <td>water</td>\n",
       "      <td>8.628122e-07</td>\n",
       "    </tr>\n",
       "    <tr>\n",
       "      <th>30</th>\n",
       "      <td>-117.674812</td>\n",
       "      <td>-117.675743</td>\n",
       "      <td>34.108425</td>\n",
       "      <td>34.107498</td>\n",
       "      <td>4.900031</td>\n",
       "      <td>POLYGON ((-117.67481 34.1075, -117.67481 34.10...</td>\n",
       "      <td>13871</td>\n",
       "      <td>Q</td>\n",
       "      <td>8.628122e-07</td>\n",
       "    </tr>\n",
       "  </tbody>\n",
       "</table>\n",
       "</div>"
      ],
      "text/plain": [
       "               X_max       X_min      Y_max      Y_min  Slope Value  \\\n",
       "56082577 -118.427589 -118.428520  32.804352  32.803425     6.853119   \n",
       "56082571 -118.425369 -118.426300  32.804539  32.803612     2.799100   \n",
       "56082570 -118.425552 -118.426483  32.804722  32.803795     2.435479   \n",
       "56082567 -118.422867 -118.423798  32.805092  32.804165     3.283050   \n",
       "30       -117.674812 -117.675743  34.108425  34.107498     4.900031   \n",
       "\n",
       "                                                   geometry  index_right  \\\n",
       "56082577  POLYGON ((-118.42759 32.80342, -118.42759 32.8...        13898   \n",
       "56082571  POLYGON ((-118.42537 32.80361, -118.42537 32.8...        10948   \n",
       "56082570  POLYGON ((-118.42555 32.80379, -118.42555 32.8...        10948   \n",
       "56082567  POLYGON ((-118.42287 32.80416, -118.42287 32.8...        13898   \n",
       "30        POLYGON ((-117.67481 34.1075, -117.67481 34.10...        13871   \n",
       "\n",
       "          PTYPE  intersection_area  \n",
       "56082577  water       8.628122e-07  \n",
       "56082571     Tv       8.628122e-07  \n",
       "56082570     Tv       8.628122e-07  \n",
       "56082567  water       8.628122e-07  \n",
       "30            Q       8.628122e-07  "
      ]
     },
     "execution_count": 19,
     "metadata": {},
     "output_type": "execute_result"
    }
   ],
   "source": [
    "candidates_resolved.head()"
   ]
  },
  {
   "cell_type": "code",
   "execution_count": null,
   "id": "3bf34384",
   "metadata": {},
   "outputs": [
    {
     "name": "stdout",
     "output_type": "stream",
     "text": [
      "[2025-10-13 19:38:14] Dropping unnecessary columns before saving...\n",
      "[2025-10-13 19:38:15] Saving the cleaned DataFrame to the specified directory...\n",
      "[2025-10-13 19:38:24] Cleaned DataFrame saved to /mnt/c/Users/melis/Desktop/10_09_geologyand_landslide/10_09_25_geology/slope_geology_10_10_25/gdf_rect12_slope_geology_nogridnumber.parquet.\n"
     ]
    }
   ],
   "source": [
    "#drop the geometry and indec_right and intersection area\n",
    "#save to \"C:\\Users\\melis\\Desktop\\10_09_geologyand_landslide\\10_09_25_geology\\slope_geology\"\n",
    "\n",
    "log(\"Dropping unnecessary columns before saving...\")\n",
    "candidates_resolved_cleaned = candidates_resolved.drop(columns=[\"geometry\", \"index_right\", \"intersection_area\"], errors=\"ignore\")\n",
    "\n",
    "log(\"Saving the cleaned DataFrame to the specified directory...\")\n",
    "output_path = Path(f\"/mnt/c/Users/melis/Desktop/10_09_geologyand_landslide/10_09_25_geology/slope_geology_10_10_25/gdf_rect{i}_slope_geology_nogridnumber.parquet\")\n",
    "candidates_resolved_cleaned.to_parquet(output_path, index=False)\n",
    "\n",
    "log(f\"Cleaned DataFrame saved to {output_path}.\")"
   ]
  },
  {
   "cell_type": "code",
   "execution_count": null,
   "id": "ddb60a68",
   "metadata": {},
   "outputs": [
    {
     "name": "stdout",
     "output_type": "stream",
     "text": [
      "        X_max       X_min      Y_max      Y_min  Slope Value  PTYPE\n",
      "0 -118.427589 -118.428520  32.804352  32.803425     6.853119  water\n",
      "1 -118.425369 -118.426300  32.804539  32.803612     2.799100     Tv\n",
      "2 -118.425552 -118.426483  32.804722  32.803795     2.435479     Tv\n",
      "3 -118.422867 -118.423798  32.805092  32.804165     3.283050  water\n",
      "4 -117.674812 -117.675743  34.108425  34.107498     4.900031      Q\n",
      "56082601\n"
     ]
    }
   ],
   "source": [
    "#read_file head\n",
    "rect = pd.read_parquet(fr\"/mnt/c/Users/melis/Desktop/10_09_geologyand_landslide/10_09_25_geology/slope_geology_10_10_25/gdf_rect{i}_slope_geology_nogridnumber.parquet\")\n",
    "print(rect.head())\n",
    "#print how many rows\n",
    "print(len(rect))\n",
    "#compare size with slope only no grid number"
   ]
  },
  {
   "cell_type": "code",
   "execution_count": null,
   "id": "d06a14bc",
   "metadata": {},
   "outputs": [],
   "source": [
    "#add grid numbers\n",
    "#after all processing for all rects are done\n",
    "\n",
    "# import pandas as pd\n",
    "# import numpy as np\n",
    "# from pathlib import Path\n",
    "# import gc\n",
    "\n",
    "# # === CONFIG ===\n",
    "# input_dir = Path(\"/mnt/c/Users/melis/Desktop/10_09_geologyand_landslide/10_09_25_geology/slope_geology_10_10_25\")\n",
    "\n",
    "# output_dir =  Path(\"/mnt/c/Users/melis/Desktop/10_09_geologyand_landslide/10_09_25_geology/slope_geology_grid_number_10_10_25\")\n",
    "# output_dir.mkdir(exist_ok=True)\n",
    "\n",
    "# # === Collect parquet files ===\n",
    "# files = sorted(input_dir.glob(\"*.parquet\"), key=lambda f: int(\"\".join(filter(str.isdigit, f.stem))))\n",
    "\n",
    "# # === Recalculate Grid Numbers ===\n",
    "# current_start = 1  # Start GridNumber from 1\n",
    "# for file in files:\n",
    "#     print(f\"Processing: {file.name}\", flush=True)\n",
    "#     try:\n",
    "#         # Read the file\n",
    "#         df = pd.read_parquet(file)\n",
    "\n",
    "#         # Recalculate GridNumber\n",
    "#         nrows = len(df)\n",
    "#         df[\"GridNumber\"] = np.arange(current_start, current_start + nrows, dtype=np.int64)\n",
    "\n",
    "#         # Save the updated file\n",
    "#         out_path = output_dir / file.name\n",
    "#         df.to_parquet(out_path, index=False)\n",
    "\n",
    "#         # Update the starting index for the next file\n",
    "#         current_start += nrows\n",
    "#         del df\n",
    "        \n",
    "\n",
    "#         print(f\"✅ Fixed GridNumber for: {file.name} ({nrows} rows)\", flush=True)\n",
    "\n",
    "#         gc.collect()\n",
    "#     except Exception as e:\n",
    "#         print(f\"❌ Failed to process {file.name}: {e}\", flush=True"
   ]
  }
 ],
 "metadata": {
  "kernelspec": {
   "display_name": "Python 3 (data_processing_oct_2025)",
   "language": "python",
   "name": "data_processing_oct_2025"
  },
  "language_info": {
   "codemirror_mode": {
    "name": "ipython",
    "version": 3
   },
   "file_extension": ".py",
   "mimetype": "text/x-python",
   "name": "python",
   "nbconvert_exporter": "python",
   "pygments_lexer": "ipython3",
   "version": "3.10.18"
  }
 },
 "nbformat": 4,
 "nbformat_minor": 5
}
